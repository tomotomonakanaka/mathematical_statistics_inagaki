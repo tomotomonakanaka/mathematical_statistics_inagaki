{
 "cells": [
  {
   "cell_type": "markdown",
   "metadata": {},
   "source": [
    "# 数理統計学 9節解答"
   ]
  },
  {
   "cell_type": "markdown",
   "metadata": {},
   "source": [
    "## 使うモジュールのインポート\n",
    "この節では、`scipy.stats.norm, scipy.stats.t, scipy.stats.chi2`を使う。  \n",
    "それぞれが、正規分布、t分布、カイ自乗分布に対応している。  \n",
    "`scipy.stats.norm.interval(alpha, loc, scale)`は$\\mathcal{N}\\left(\\text{loc}, \\text{scale}\\right)$の両側$\\alpha$点を出力する。  \n",
    "詳細については、[stats.norm](https://docs.scipy.org/doc/scipy/reference/generated/scipy.stats.norm.html), [stats.t](https://docs.scipy.org/doc/scipy/reference/generated/scipy.stats.t.html), [stats.chi2](https://docs.scipy.org/doc/scipy/reference/generated/scipy.stats.chi2.html)を参照。"
   ]
  },
  {
   "cell_type": "code",
   "execution_count": 1,
   "metadata": {},
   "outputs": [],
   "source": [
    "import numpy as np\n",
    "from scipy import stats"
   ]
  },
  {
   "cell_type": "markdown",
   "metadata": {},
   "source": [
    "## 9.1\n",
    "### 正規分布の平均の区間推定 (1), (2)\n",
    "**分散が既知のとき**  \n",
    "分散が既知のとき、$1-\\alpha$の信頼区間は$$\\left[\\bar{X}-z_{\\alpha}^{*}\\frac{\\sigma}{\\sqrt{n}},\\ \\bar{X}+z_{\\alpha}^{*}\\frac{\\sigma}{\\sqrt{n}}\\right]$$\n",
    "である(p.156)。  \n",
    "\n",
    "**分散が未知のとき**  \n",
    "分散が未知のとき、$1-\\alpha$の信頼区間は$$\\left[\\bar{X}-t_{n-1,\\alpha}^{*}\\frac{\\hat{\\sigma}}{\\sqrt{n}},\\ \\bar{X}+t_{n-1,\\alpha}^{*}\\frac{\\hat{\\sigma}}{\\sqrt{n}}\\right]$$\n",
    "である(p157)。（分散が既知のときとの違いは、分散を不偏分散で置き換え、正規分布の両側$\\alpha$点を自由度$n-1$t分布の両側$\\alpha$点で置き換えたことだけである。）  \n",
    "\n",
    "**注意**  \n",
    "実は、$z_{\\alpha}^{*}\\frac{\\sigma}{\\sqrt{n}}$は標準正規分布を$\\frac{\\sigma}{\\sqrt{n}}$でスケーリングし直した分布の両側$\\alpha$点になっている。   \n",
    "（正規分布の定数倍は、平均をその定数倍、分散を定数の2乗倍することに対応する。）  \n",
    "つまり、$\\mathcal{N}\\left(\\bar{X}, \\frac{\\sigma^2}{n}\\right)$の両側$\\alpha$点を求めれば、それが信頼区間に対応している。  \n",
    "分散が未知のときも、t分布に対して同様のことが言える。  \n",
    "そこで、今回は計算機の強みを活かして、標準正規分布の両側$\\alpha$点($z_{\\alpha}^{*}$)を使わずに、直接$\\mathcal{N}\\left(\\bar{X}, \\frac{\\sigma^2}{n}\\right)$の両側$\\alpha$点を見つける。  \n",
    "それが、`stats.norm.interval(q, X_bar, np.sqrt(sigma2/n)`である。\n",
    "\n",
    "### 正規分布の分散の区間推定\n",
    "分散の$1-\\alpha$の信頼区間は$$\\left[\\frac{(n-1)\\hat{\\sigma}^2}{\\chi_{n-1,\\frac{\\alpha}{2}}^2}, \\frac{(n-1)\\hat{\\sigma}^2}{\\chi_{n-1,1-\\frac{\\alpha}{2}}^2} \\right]$$\n",
    "である(p159)。"
   ]
  },
  {
   "cell_type": "code",
   "execution_count": 2,
   "metadata": {},
   "outputs": [
    {
     "name": "stdout",
     "output_type": "stream",
     "text": [
      "Answer of 9.1 (1) is: (9.361386113576325, 12.355280553090344)\n",
      "Answer of 9.1 (2) is: (8.956183398904026, 12.760483267762643)\n",
      "Answer of 9.1 (3) is: (4.497670853412747, 25.837440037846203)\n"
     ]
    }
   ],
   "source": [
    "# 9.1\n",
    "samples = [12.7, 6.6, 5.6, 14.3, 11.4, 10.8, 13.8, 11.2, 10.0, 12.8, 7.1, 14.0]\n",
    "n = len(samples) # sample size\n",
    "q = 0.95 # confidence level\n",
    "X_bar = np.mean(samples) # mean\n",
    "sigma2 = 7 # known variance\n",
    "s2 = np.var(samples, ddof=1) # unbiased variance\n",
    "\n",
    "# (1)\n",
    "print('Answer of 9.1 (1) is:', stats.norm.interval(q, X_bar, np.sqrt(sigma2/n)))\n",
    "\n",
    "# (2)\n",
    "print('Answer of 9.1 (2) is:', stats.t.interval(q, n-1, X_bar, np.sqrt(s2/n)))\n",
    "\n",
    "# (3)\n",
    "chi_left = stats.chi2.ppf((1-q)/2, n-1) # ppfは分布関数(cdf)の逆関数\n",
    "chi_right = stats.chi2.ppf(q+(1-q)/2, n-1)\n",
    "print('Answer of 9.1 (3) is:', ((n-1)*s2/chi_right, (n-1)*s2/chi_left))"
   ]
  },
  {
   "cell_type": "markdown",
   "metadata": {},
   "source": [
    "## 9.2\n",
    "p159下部のベルヌーイ分布における$1-\\alpha$信頼区間を求める式を実装する。(`bernouli_interval`)  \n",
    "この関数は、標本平均、1-信頼水準、標本数を受け取ったときに、信頼区間を返す。"
   ]
  },
  {
   "cell_type": "code",
   "execution_count": 3,
   "metadata": {},
   "outputs": [
    {
     "name": "stdout",
     "output_type": "stream",
     "text": [
      "Answer of 9.2 is: [0.5436366  0.65383481]\n"
     ]
    }
   ],
   "source": [
    "# 9.2\n",
    "def bernouli_interval(X_bar, q, n):\n",
    "    '''\n",
    "    input: \n",
    "        X_bar: avarage of samples\n",
    "        q: 1-q is confidence level\n",
    "        n: sample size\n",
    "    output:\n",
    "        confidence interval of bernouli distribution (p159 in Inagaki's textbook)\n",
    "    '''\n",
    "    z_a = stats.norm.interval(q)[1]\n",
    "    first_item = X_bar+z_a**2/(2*n)\n",
    "    second_item = z_a/np.sqrt(n)*np.sqrt(X_bar*(1-X_bar)+z_a**2/(4*n))\n",
    "    return np.array([first_item-second_item, first_item+second_item]/(1+z_a**2/n))\n",
    "\n",
    "\n",
    "n = 300\n",
    "q = 0.95\n",
    "X_bar = 180/300\n",
    "print('Answer of 9.2 is:', bernouli_interval(X_bar, q, n))"
   ]
  },
  {
   "cell_type": "markdown",
   "metadata": {},
   "source": [
    "## 9.3\n",
    "(1)と(2)は9.1と同じ。(3)は2つの正規分布の平均差の区間推定が必要。\n",
    "\n",
    "### 2つの正規分布の平均差の区間推定\n",
    "**分散が既知のとき**  \n",
    "分散が既知のとき、$1-\\alpha$の信頼区間は$$\\left[\\bar{X}-\\bar{Y}-z_{\\alpha}^{*}\\sqrt{\\frac{\\sigma_1^2}{m}+\\frac{\\sigma_2^2}{n}},\\ \\bar{X}-\\bar{Y}+z_{\\alpha}^{*}\\sqrt{\\frac{\\sigma_1^2}{m}+\\frac{\\sigma_2^2}{n}}\\right]$$\n",
    "である(p.156)。  \n",
    "\n",
    "**分散が未知のとき**  \n",
    "分散が未知のとき、$1-\\alpha$の信頼区間は$$\\left[\\bar{X}-\\bar{Y}-t_{m+n-2,\\alpha}^{*}\\hat{\\sigma}\\sqrt{\\frac{1}{m}+\\frac{1}{n}},\\ \\bar{X}-\\bar{Y}+t_{m+n-2,\\alpha}^{*}\\hat{\\sigma}\\sqrt{\\frac{1}{m}+\\frac{1}{n}}\\right]$$\n",
    "である(p157)。（分散が等しいという仮定が必要）"
   ]
  },
  {
   "cell_type": "code",
   "execution_count": 4,
   "metadata": {},
   "outputs": [
    {
     "name": "stdout",
     "output_type": "stream",
     "text": [
      "Answer of 9.3 (1) mu_1 is: (1274.7049686545536, 1553.2950313454464)\n",
      "Answer of 9.3 (1) mu_2 is: (1026.7299437799406, 1216.0200562200594)\n",
      "Answer of 9.3 (2) sigma_1 is: (24119.56258420238, 138557.88302862243)\n",
      "Answer of 9.3 (2) sigma_2 is: (5602.6475792279625, 53089.24266199098)\n",
      "Answer of 9.3 (3) is: (114.8816420259761, 470.36835797402387)\n"
     ]
    }
   ],
   "source": [
    "# 9.3\n",
    "sample_A = [1293, 1385, 1614, 1497, 1340, 1643, 1466, 1094, 1270, 1028, 1711, 1627]\n",
    "sample_B = [1061, 1065, 1383, 1090, 1021, 1138, 1070, 1143]\n",
    "q = 0.95\n",
    "n_A = len(sample_A)\n",
    "n_B = len(sample_B)\n",
    "X_barA = np.mean(sample_A)\n",
    "X_barB = np.mean(sample_B)\n",
    "s2_A = np.var(sample_A, ddof=1)\n",
    "s2_B = np.var(sample_B, ddof=1)\n",
    "\n",
    "# (1)\n",
    "print('Answer of 9.3 (1) mu_1 is:', stats.t.interval(q, n_A-1, X_barA, np.sqrt(s2_A/n_A)))\n",
    "print('Answer of 9.3 (1) mu_2 is:', stats.t.interval(q, n_B-1, X_barB, np.sqrt(s2_B/n_B)))\n",
    "\n",
    "# (2)\n",
    "chi_leftA = stats.chi2.ppf((1-q)/2, n_A-1) # ppfは分布関数(cdf)の逆関数\n",
    "chi_rightA = stats.chi2.ppf(q+(1-q)/2, n_A-1)\n",
    "chi_leftB = stats.chi2.ppf((1-q)/2, n_B-1) # ppfは分布関数(cdf)の逆関数\n",
    "chi_rightB = stats.chi2.ppf(q+(1-q)/2, n_B-1)\n",
    "print('Answer of 9.3 (2) sigma_1 is:', ((n_A-1)*s2_A/chi_rightA, (n_A-1)*s2_A/chi_leftA))\n",
    "print('Answer of 9.3 (2) sigma_2 is:', ((n_B-1)*s2_B/chi_rightB, (n_B-1)*s2_B/chi_leftB))\n",
    "\n",
    "# (3)\n",
    "X_diff = X_barA - X_barB\n",
    "s2_diff = (s2_A*(n_A-1) + s2_B*(n_B-1))/(n_A+n_B-2)\n",
    "print('Answer of 9.3 (3) is:', stats.t.interval(q, n_A+n_B-2, X_diff, np.sqrt(s2_diff)*np.sqrt(1/n_A+1/n_B)))"
   ]
  },
  {
   "cell_type": "markdown",
   "metadata": {},
   "source": [
    "## 9.4\n",
    "差のサンプルを正規分布で近似しているので、とりあえず差のデータを作る。（`samples`)  \n",
    "このsamplesの区間推定は9.1 (2)と同様。"
   ]
  },
  {
   "cell_type": "code",
   "execution_count": 6,
   "metadata": {},
   "outputs": [
    {
     "name": "stdout",
     "output_type": "stream",
     "text": [
      "Answer of 9.4 is: (-20.698472778537997, -10.101527221462003)\n"
     ]
    }
   ],
   "source": [
    "# 9.4\n",
    "samples = [65-74, 74-80, 71-86, 73-95, 74-92, 68-98, 75-74, 65-77, 68-89, 69-87, 67-95, 70-97, 71-85, 70-83, 74-73]\n",
    "q = 0.95\n",
    "n = len(samples)\n",
    "X_bar = np.mean(samples)\n",
    "s2 = np.var(samples, ddof=1)\n",
    "print('Answer of 9.4 is:', stats.t.interval(q, n-1, X_bar, np.sqrt(s2/n)))"
   ]
  },
  {
   "cell_type": "markdown",
   "metadata": {},
   "source": [
    "## 9.5\n",
    "9.4のデータについて、9.3 (3)と同じ方法で「2つの正規分布の平均差の区間推定」を行う。  \n",
    "結果を見ると、9.4のときよりも信頼区間は狭い。"
   ]
  },
  {
   "cell_type": "code",
   "execution_count": 7,
   "metadata": {},
   "outputs": [
    {
     "name": "stdout",
     "output_type": "stream",
     "text": [
      "Answer of 9.5 is: (-20.309398634009472, -10.490601365990539)\n"
     ]
    }
   ],
   "source": [
    "# 9.5\n",
    "samples_after = [65, 74, 71, 73, 74, 68, 75, 65, 68, 69, 67, 70, 71, 70, 74]\n",
    "samples_pre = [74, 80, 86, 95, 92, 98, 74, 77, 89, 87, 95, 97, 85, 83, 73]\n",
    "q = 0.95\n",
    "n_pre = len(samples_pre)\n",
    "n_after = len(samples_after)\n",
    "X_pre = np.mean(samples_pre)\n",
    "X_after = np.mean(samples_after)\n",
    "s2_pre = np.var(samples_pre, ddof=1)\n",
    "s2_after = np.var(samples_after, ddof=1)\n",
    "X_diff = X_after-X_pre\n",
    "s2_diff = (s2_pre*(n_pre-1) + s2_after*(n_after-1))/(n_pre+n_after-2)\n",
    "print('Answer of 9.5 is:', stats.t.interval(q, n_pre+n_after-2, X_diff, np.sqrt(s2_diff)*np.sqrt(2/n_pre)))"
   ]
  },
  {
   "cell_type": "markdown",
   "metadata": {},
   "source": [
    "## 9.6\n",
    "p164の2つの正規分布の分散比の区間推定を行う。"
   ]
  },
  {
   "cell_type": "code",
   "execution_count": 8,
   "metadata": {},
   "outputs": [
    {
     "name": "stdout",
     "output_type": "stream",
     "text": [
      "Answer of 9.6 is: (2.8151455509691474, 17.366333251793176)\n"
     ]
    }
   ],
   "source": [
    "# 9.6\n",
    "q = 0.90\n",
    "r_hat = s2_pre/s2_after\n",
    "f_left = stats.f.ppf((1-q)/2, n_pre-1, n_after-1)\n",
    "f_right = stats.f.ppf(q+(1-q)/2, n_pre-1, n_after-1)\n",
    "print('Answer of 9.6 is:', (r_hat/f_right, r_hat/f_left))"
   ]
  },
  {
   "cell_type": "markdown",
   "metadata": {},
   "source": [
    "## 9.7\n",
    "p164の2つの比率の差の区間推定を行う。"
   ]
  },
  {
   "cell_type": "code",
   "execution_count": 9,
   "metadata": {},
   "outputs": [
    {
     "name": "stdout",
     "output_type": "stream",
     "text": [
      "Answer for 9.7 is: (-0.39054003262321957, -0.1094599673767804)\n"
     ]
    }
   ],
   "source": [
    "# 9.7\n",
    "q = 0.95\n",
    "X_man = 55/100\n",
    "X_wo = 48/60\n",
    "X_diff = X_man-X_wo\n",
    "n_man = 100\n",
    "n_wo = 60\n",
    "q = 0.95\n",
    "print('Answer for 9.7 is:', stats.norm.interval(q, X_diff, np.sqrt(X_man*(1-X_man)/n_man + X_wo*(1-X_wo)/n_wo)))"
   ]
  },
  {
   "cell_type": "markdown",
   "metadata": {},
   "source": [
    "## 9.8\n",
    "9.2と9.7の融合問題"
   ]
  },
  {
   "cell_type": "code",
   "execution_count": 10,
   "metadata": {},
   "outputs": [
    {
     "name": "stdout",
     "output_type": "stream",
     "text": [
      "The first answer is: [0.66489889 0.78184588]\n",
      "The second answer is: [0.73914481 0.84954799]\n",
      "The third answer is: (-0.153576149648384, 0.00812160419383852)\n",
      "2つの平均の差の95%信頼区間は0を含んでいるため、この結果からは発芽率に差があるとは言えない。\n"
     ]
    }
   ],
   "source": [
    "# 9.8\n",
    "q =  0.95\n",
    "X_1 = 160/220\n",
    "X_2 = 160/200\n",
    "n_1 = 220\n",
    "n_2 = 200\n",
    "print('The first answer is:', bernouli_interval(X_1, q, n_1)) # bernouli_interval is defined in #9.2\n",
    "print('The second answer is:', bernouli_interval(X_2, q, n_2))\n",
    "\n",
    "X_diff = X_1-X_2\n",
    "print('The third answer is:', stats.norm.interval(q, X_diff, np.sqrt(X_1*(1-X_1)/n_1 + X_2*(1-X_2)/n_2)))\n",
    "print('2つの平均の差の95%信頼区間は0を含んでいるため、この結果からは発芽率に差があるとは言えない。')"
   ]
  }
 ],
 "metadata": {
  "kernelspec": {
   "display_name": "Python 3",
   "language": "python",
   "name": "python3"
  },
  "language_info": {
   "codemirror_mode": {
    "name": "ipython",
    "version": 3
   },
   "file_extension": ".py",
   "mimetype": "text/x-python",
   "name": "python",
   "nbconvert_exporter": "python",
   "pygments_lexer": "ipython3",
   "version": "3.7.0"
  }
 },
 "nbformat": 4,
 "nbformat_minor": 2
}
