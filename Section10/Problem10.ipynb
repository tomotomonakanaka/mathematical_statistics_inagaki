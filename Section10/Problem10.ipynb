{
 "cells": [
  {
   "cell_type": "markdown",
   "metadata": {},
   "source": [
    "# 数理統計学 10節解答"
   ]
  },
  {
   "cell_type": "markdown",
   "metadata": {},
   "source": [
    "## 使うモジュールのインポート\n",
    "この節では、`scipy.stats.norm, scipy.stats.t, scipy.stats.chi2`を使う。  \n",
    "それぞれが、正規分布、t分布、カイ自乗分布に対応している。  \n",
    "`scipy.stats.norm.interval(alpha, loc, scale)`は$\\mathcal{N}\\left(\\text{loc}, \\text{scale}\\right)$の両側$\\alpha$点を出力する。  \n",
    "詳細については、[stats.norm](https://docs.scipy.org/doc/scipy/reference/generated/scipy.stats.norm.html), [stats.t](https://docs.scipy.org/doc/scipy/reference/generated/scipy.stats.t.html), [stats.chi2](https://docs.scipy.org/doc/scipy/reference/generated/scipy.stats.chi2.html)を参照。"
   ]
  },
  {
   "cell_type": "code",
   "execution_count": 1,
   "metadata": {},
   "outputs": [],
   "source": [
    "import numpy as np\n",
    "from scipy import stats"
   ]
  },
  {
   "cell_type": "markdown",
   "metadata": {},
   "source": [
    "## 10.1"
   ]
  },
  {
   "cell_type": "code",
   "execution_count": 15,
   "metadata": {},
   "outputs": [
    {
     "name": "stdout",
     "output_type": "stream",
     "text": [
      "|T|:  3.011934408137695\n",
      "t_975:  2.1447866879169273\n",
      "棄却\n"
     ]
    }
   ],
   "source": [
    "samples1 = np.array([70, 69, 72, 74, 66, 68, 69, 70, 71, 69, 73, 72, 68, 72, 67])\n",
    "samples2 = np.array([69, 72, 71, 74, 68, 67, 72, 72, 72, 70, 75, 73, 71, 72, 69])\n",
    "diff = samples1 - samples2\n",
    "n = len(diff)\n",
    "t_975 = stats.t.ppf(0.975, n-1)\n",
    "t = np.mean(diff)*np.sqrt(n/np.var(diff, ddof=1))\n",
    "\n",
    "print('|T|: ', np.abs(t))\n",
    "print('t_975: ', t_975)\n",
    "if np.abs(t) > t_975:\n",
    "    print('棄却')\n",
    "else:\n",
    "    print('採択')"
   ]
  },
  {
   "cell_type": "markdown",
   "metadata": {},
   "source": [
    "## 10.2"
   ]
  },
  {
   "cell_type": "code",
   "execution_count": 38,
   "metadata": {},
   "outputs": [
    {
     "name": "stdout",
     "output_type": "stream",
     "text": [
      "1.3795305076179911\n",
      "2.048407141795244\n",
      "accept\n"
     ]
    }
   ],
   "source": [
    "mu_1 = np.mean(samples1)\n",
    "mu_2 = np.mean(samples2)\n",
    "sigma2 = ((n-1)*np.var(samples1, ddof=1) + (n-1)*np.var(samples2, ddof=1)) / (2*n-2)\n",
    "t_975 = stats.t.ppf(0.975, 2*n-2)\n",
    "t = (mu_1 - mu_2)/np.sqrt((2/n)*sigma2)\n",
    "\n",
    "print('|T|: ', np.abs(t))\n",
    "print('t_975: ', t_975)\n",
    "if np.abs(t) > t_975:\n",
    "    print('棄却')\n",
    "else:\n",
    "    print('採択')"
   ]
  },
  {
   "cell_type": "markdown",
   "metadata": {},
   "source": [
    "## 10.3"
   ]
  },
  {
   "cell_type": "code",
   "execution_count": 18,
   "metadata": {},
   "outputs": [
    {
     "name": "stdout",
     "output_type": "stream",
     "text": [
      "F:  1.0925196850393701\n",
      "F_left, F_right:  0.40262094298131085 2.483725741128222\n",
      "採択\n"
     ]
    }
   ],
   "source": [
    "sigma_1 = np.var(samples1, ddof=1)\n",
    "sigma_2 = np.var(samples2, ddof=1)\n",
    "f = sigma_1 / sigma_2\n",
    "f_left = stats.f.ppf(0.05, n-1, n-1)\n",
    "f_right = stats.f.ppf(0.95, n-1, n-1)\n",
    "\n",
    "print('F: ',f)\n",
    "print('F_left, F_right: ', f_left, f_right)\n",
    "if f < f_left or f > f_right:\n",
    "    print('棄却')\n",
    "else:\n",
    "    print('採択')"
   ]
  },
  {
   "cell_type": "markdown",
   "metadata": {},
   "source": [
    "## 10.4"
   ]
  },
  {
   "cell_type": "code",
   "execution_count": 19,
   "metadata": {},
   "outputs": [
    {
     "name": "stdout",
     "output_type": "stream",
     "text": [
      "|T|:  4.207147835294249\n",
      "t_975:  2.10092204024096\n",
      "棄却\n",
      "差があると言える\n"
     ]
    }
   ],
   "source": [
    "sample1 = [150, 163, 161, 130, 147, 145, 138, 168, 164, 147]\n",
    "sample2 = [145, 134, 115, 122, 101, 147, 130, 112, 126, 129]\n",
    "n = len(sample1)\n",
    "mu_1 = np.mean(sample1)\n",
    "mu_2 = np.mean(sample2)\n",
    "sigma2 = (n-1) * (np.var(sample1, ddof=1) + np.var(sample2, ddof=1)) / (2*n-2)\n",
    "t_975 =  stats.t.ppf(0.975, 2*n-2)\n",
    "t = (mu_1-mu_2) / np.sqrt(sigma2*2/n)\n",
    "\n",
    "\n",
    "print('|T|: ', np.abs(t))\n",
    "print('t_975: ', t_975)\n",
    "if np.abs(t) > t_975:\n",
    "    print('棄却')\n",
    "    print('差があると言える')\n",
    "else:\n",
    "    print('採択')\n",
    "    print('差があると言えない')"
   ]
  },
  {
   "cell_type": "markdown",
   "metadata": {},
   "source": [
    "## 10.5"
   ]
  },
  {
   "cell_type": "code",
   "execution_count": 20,
   "metadata": {},
   "outputs": [
    {
     "name": "stdout",
     "output_type": "stream",
     "text": [
      "F:  1.339685530034055\n",
      "F_left, F_right:  0.31457490615130795 3.178893104458269\n",
      "採択\n",
      "同じと言える\n"
     ]
    }
   ],
   "source": [
    "sigma_1 = np.var(sample1, ddof=1)\n",
    "sigma_2 = np.var(sample2, ddof=1)\n",
    "f = sigma_2 / sigma_1\n",
    "f_left = stats.f.ppf(0.05, n-1, n-1)\n",
    "f_right = stats.f.ppf(0.95, n-1, n-1)\n",
    "\n",
    "print('F: ',f)\n",
    "print('F_left, F_right: ', f_left, f_right)\n",
    "if f < f_left or f > f_right:\n",
    "    print('棄却')\n",
    "    print('同じと言えない')\n",
    "else:\n",
    "    print('採択')\n",
    "    print('同じと言える')"
   ]
  },
  {
   "cell_type": "markdown",
   "metadata": {},
   "source": [
    "## 10.6"
   ]
  },
  {
   "cell_type": "code",
   "execution_count": 21,
   "metadata": {},
   "outputs": [
    {
     "name": "stdout",
     "output_type": "stream",
     "text": [
      "棄却\n",
      "差があると言える\n"
     ]
    }
   ],
   "source": [
    "m = 100\n",
    "n = 200\n",
    "mu_1 = 16/100\n",
    "mu_2 = 50/100\n",
    "\n",
    "t = (mu_1 - mu_2) / np.sqrt(mu_1*(1-mu_1)/m + mu_2*(1-mu_2)/n)\n",
    "z = stats.norm.ppf(0.975)\n",
    "\n",
    "if abs(z) > t:\n",
    "    print('棄却')\n",
    "    print('差があると言える')\n",
    "else:\n",
    "    print('採択')\n",
    "    print('差がないと言えない')"
   ]
  },
  {
   "cell_type": "code",
   "execution_count": 11,
   "metadata": {},
   "outputs": [
    {
     "name": "stdout",
     "output_type": "stream",
     "text": [
      "the answer is  7\n"
     ]
    }
   ],
   "source": [
    "# 棄却域を求める\n",
    "def calculate_beta(n):\n",
    "    right = stats.norm.ppf(0.95, 160, np.sqrt(15/n))\n",
    "    beta = stats.norm.cdf(right, 165, np.sqrt(15/n))\n",
    "    return beta\n",
    "\n",
    "n = 1\n",
    "while(calculate_beta(n) > 0.05):\n",
    "    n += 1\n",
    "print('the answer is ', n)"
   ]
  },
  {
   "cell_type": "code",
   "execution_count": 12,
   "metadata": {},
   "outputs": [
    {
     "data": {
      "text/plain": [
       "0.022394532475292373"
      ]
     },
     "execution_count": 12,
     "metadata": {},
     "output_type": "execute_result"
    }
   ],
   "source": [
    "calculate_beta(8)"
   ]
  },
  {
   "cell_type": "code",
   "execution_count": 4,
   "metadata": {},
   "outputs": [
    {
     "data": {
      "text/plain": [
       "167.59090787128997"
      ]
     },
     "execution_count": 4,
     "metadata": {},
     "output_type": "execute_result"
    }
   ],
   "source": [
    "right"
   ]
  },
  {
   "cell_type": "code",
   "execution_count": null,
   "metadata": {},
   "outputs": [],
   "source": []
  }
 ],
 "metadata": {
  "kernelspec": {
   "display_name": "Python 3",
   "language": "python",
   "name": "python3"
  },
  "language_info": {
   "codemirror_mode": {
    "name": "ipython",
    "version": 3
   },
   "file_extension": ".py",
   "mimetype": "text/x-python",
   "name": "python",
   "nbconvert_exporter": "python",
   "pygments_lexer": "ipython3",
   "version": "3.7.0"
  }
 },
 "nbformat": 4,
 "nbformat_minor": 2
}
