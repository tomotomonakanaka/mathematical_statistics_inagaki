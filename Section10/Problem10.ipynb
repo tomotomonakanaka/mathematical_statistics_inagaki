{
 "cells": [
  {
   "cell_type": "markdown",
   "metadata": {},
   "source": [
    "# 数理統計学 10節解答"
   ]
  },
  {
   "cell_type": "markdown",
   "metadata": {},
   "source": [
    "## 使うモジュールのインポート\n",
    "この節では、`scipy.stats.norm, scipy.stats.t, scipy.stats.chi2`を使う。  \n",
    "それぞれが、正規分布、t分布、カイ自乗分布に対応している。  \n",
    "`scipy.stats.norm.interval(alpha, loc, scale)`は$\\mathcal{N}\\left(\\text{loc}, \\text{scale}\\right)$の両側$\\alpha$点を出力する。  \n",
    "詳細については、[stats.norm](https://docs.scipy.org/doc/scipy/reference/generated/scipy.stats.norm.html), [stats.t](https://docs.scipy.org/doc/scipy/reference/generated/scipy.stats.t.html), [stats.chi2](https://docs.scipy.org/doc/scipy/reference/generated/scipy.stats.chi2.html)を参照。"
   ]
  },
  {
   "cell_type": "code",
   "execution_count": 1,
   "metadata": {},
   "outputs": [],
   "source": [
    "import numpy as np\n",
    "from scipy import stats"
   ]
  },
  {
   "cell_type": "markdown",
   "metadata": {},
   "source": [
    "## 10.1"
   ]
  },
  {
   "cell_type": "code",
   "execution_count": 2,
   "metadata": {},
   "outputs": [
    {
     "name": "stdout",
     "output_type": "stream",
     "text": [
      "|T|:  3.011934408137695\n",
      "t_975:  2.1447866879169273\n",
      "棄却\n"
     ]
    }
   ],
   "source": [
    "samples1 = np.array([70, 69, 72, 74, 66, 68, 69, 70, 71, 69, 73, 72, 68, 72, 67])\n",
    "samples2 = np.array([69, 72, 71, 74, 68, 67, 72, 72, 72, 70, 75, 73, 71, 72, 69])\n",
    "diff = samples1 - samples2\n",
    "n = len(diff)\n",
    "t_975 = stats.t.ppf(0.975, n-1)\n",
    "t = np.mean(diff)*np.sqrt(n/np.var(diff, ddof=1))\n",
    "\n",
    "print('|T|: ', np.abs(t))\n",
    "print('t_975: ', t_975)\n",
    "if np.abs(t) > t_975:\n",
    "    print('棄却')\n",
    "else:\n",
    "    print('採択')"
   ]
  },
  {
   "cell_type": "markdown",
   "metadata": {},
   "source": [
    "## 10.2"
   ]
  },
  {
   "cell_type": "code",
   "execution_count": 3,
   "metadata": {},
   "outputs": [
    {
     "name": "stdout",
     "output_type": "stream",
     "text": [
      "|T|:  1.3795305076179911\n",
      "t_975:  2.048407141795244\n",
      "採択\n"
     ]
    }
   ],
   "source": [
    "mu_1 = np.mean(samples1)\n",
    "mu_2 = np.mean(samples2)\n",
    "sigma2 = ((n-1)*np.var(samples1, ddof=1) + (n-1)*np.var(samples2, ddof=1)) / (2*n-2)\n",
    "t_975 = stats.t.ppf(0.975, 2*n-2)\n",
    "t = (mu_1 - mu_2)/np.sqrt((2/n)*sigma2)\n",
    "\n",
    "print('|T|: ', np.abs(t))\n",
    "print('t_975: ', t_975)\n",
    "if np.abs(t) > t_975:\n",
    "    print('棄却')\n",
    "else:\n",
    "    print('採択')"
   ]
  },
  {
   "cell_type": "markdown",
   "metadata": {},
   "source": [
    "## 10.3"
   ]
  },
  {
   "cell_type": "code",
   "execution_count": 4,
   "metadata": {},
   "outputs": [
    {
     "name": "stdout",
     "output_type": "stream",
     "text": [
      "F:  1.0925196850393701\n",
      "F_left, F_right:  0.40262094298131085 2.483725741128222\n",
      "採択\n"
     ]
    }
   ],
   "source": [
    "sigma_1 = np.var(samples1, ddof=1)\n",
    "sigma_2 = np.var(samples2, ddof=1)\n",
    "f = sigma_1 / sigma_2\n",
    "f_left = stats.f.ppf(0.05, n-1, n-1)\n",
    "f_right = stats.f.ppf(0.95, n-1, n-1)\n",
    "\n",
    "print('F: ',f)\n",
    "print('F_left, F_right: ', f_left, f_right)\n",
    "if f < f_left or f > f_right:\n",
    "    print('棄却')\n",
    "else:\n",
    "    print('採択')"
   ]
  },
  {
   "cell_type": "markdown",
   "metadata": {},
   "source": [
    "## 10.4"
   ]
  },
  {
   "cell_type": "code",
   "execution_count": 5,
   "metadata": {},
   "outputs": [
    {
     "name": "stdout",
     "output_type": "stream",
     "text": [
      "|T|:  4.207147835294249\n",
      "t_975:  2.10092204024096\n",
      "棄却\n",
      "差があると言える\n"
     ]
    }
   ],
   "source": [
    "sample1 = [150, 163, 161, 130, 147, 145, 138, 168, 164, 147]\n",
    "sample2 = [145, 134, 115, 122, 101, 147, 130, 112, 126, 129]\n",
    "n = len(sample1)\n",
    "mu_1 = np.mean(sample1)\n",
    "mu_2 = np.mean(sample2)\n",
    "sigma2 = (n-1) * (np.var(sample1, ddof=1) + np.var(sample2, ddof=1)) / (2*n-2)\n",
    "t_975 =  stats.t.ppf(0.975, 2*n-2)\n",
    "t = (mu_1-mu_2) / np.sqrt(sigma2*2/n)\n",
    "\n",
    "\n",
    "print('|T|: ', np.abs(t))\n",
    "print('t_975: ', t_975)\n",
    "if np.abs(t) > t_975:\n",
    "    print('棄却')\n",
    "    print('差があると言える')\n",
    "else:\n",
    "    print('採択')\n",
    "    print('差があると言えない')"
   ]
  },
  {
   "cell_type": "markdown",
   "metadata": {},
   "source": [
    "## 10.5"
   ]
  },
  {
   "cell_type": "code",
   "execution_count": 6,
   "metadata": {},
   "outputs": [
    {
     "name": "stdout",
     "output_type": "stream",
     "text": [
      "F:  1.339685530034055\n",
      "F_left, F_right:  0.31457490615130795 3.178893104458269\n",
      "採択\n",
      "同じと言える\n"
     ]
    }
   ],
   "source": [
    "sigma_1 = np.var(sample1, ddof=1)\n",
    "sigma_2 = np.var(sample2, ddof=1)\n",
    "f = sigma_2 / sigma_1\n",
    "f_left = stats.f.ppf(0.05, n-1, n-1)\n",
    "f_right = stats.f.ppf(0.95, n-1, n-1)\n",
    "\n",
    "print('F: ',f)\n",
    "print('F_left, F_right: ', f_left, f_right)\n",
    "if f < f_left or f > f_right:\n",
    "    print('棄却')\n",
    "    print('同じと言えない')\n",
    "else:\n",
    "    print('採択')\n",
    "    print('同じと言える')"
   ]
  },
  {
   "cell_type": "markdown",
   "metadata": {},
   "source": [
    "## 10.6"
   ]
  },
  {
   "cell_type": "code",
   "execution_count": 7,
   "metadata": {},
   "outputs": [
    {
     "name": "stdout",
     "output_type": "stream",
     "text": [
      "棄却\n",
      "差があると言える\n"
     ]
    }
   ],
   "source": [
    "m = 100\n",
    "n = 200\n",
    "mu_1 = 16/100\n",
    "mu_2 = 50/100\n",
    "\n",
    "t = (mu_1 - mu_2) / np.sqrt(mu_1*(1-mu_1)/m + mu_2*(1-mu_2)/n)\n",
    "z = stats.norm.ppf(0.975)\n",
    "\n",
    "if abs(z) > t:\n",
    "    print('棄却')\n",
    "    print('差があると言える')\n",
    "else:\n",
    "    print('採択')\n",
    "    print('差がないと言えない')"
   ]
  },
  {
   "cell_type": "markdown",
   "metadata": {},
   "source": [
    "## 10.7\n",
    "まずは棄却域を求める。  \n",
    "$\\mu_1=160 < \\mu_2=165$であるから、有意水準5%の片側検定を行う。  \n",
    "この棄却域は$\\bar{X} > \\mu_1 + \\frac{\\sigma}{n} z_{0.05}$である。  \n",
    "第二種の誤りは、$\\mu = \\mu_2$である時に、仮説が棄却されない誤りなので、正規分布 $\\mathcal{N}(\\mu_2,\\sigma^2)$ の分布関数を$F$とすると$\\beta=F(\\mu_1+\\frac{\\sigma}{n} z_{0.95})$となる。  \n",
    "この値を$n=1$から順に計算していくことによって、初めて$\\beta < 0.05$となる$n$を見つける。"
   ]
  },
  {
   "cell_type": "code",
   "execution_count": 11,
   "metadata": {},
   "outputs": [
    {
     "name": "stdout",
     "output_type": "stream",
     "text": [
      "the answer is  7\n"
     ]
    }
   ],
   "source": [
    "# 棄却域を求める\n",
    "def calculate_beta(n):\n",
    "    right = stats.norm.ppf(0.95, 160, np.sqrt(15/n))\n",
    "    beta = stats.norm.cdf(right, 165, np.sqrt(15/n))\n",
    "    return beta\n",
    "\n",
    "n = 1\n",
    "while(calculate_beta(n) > 0.05):\n",
    "    n += 1\n",
    "print('the answer is ', n)"
   ]
  },
  {
   "cell_type": "markdown",
   "metadata": {},
   "source": [
    "## 10.11\n"
   ]
  },
  {
   "cell_type": "code",
   "execution_count": 19,
   "metadata": {},
   "outputs": [
    {
     "name": "stdout",
     "output_type": "stream",
     "text": [
      "カイ自乗統計量: 3.0303030303030303\n",
      "95%点: 7.814727903251179\n",
      "正しい\n"
     ]
    }
   ],
   "source": [
    "n_list = np.array([120, 50, 40, 10])\n",
    "freq_list = np.array([9, 3, 3, 1])\n",
    "pi_list = freq_list / np.sum(freq_list)\n",
    "n = np.sum(n_list)\n",
    "k = len(n_list)\n",
    "\n",
    "chi = np.sum((n_list-n*pi_list)**2 / (n*pi_list))\n",
    "chi_a = stats.chi2.ppf(0.95, k-1)\n",
    "\n",
    "print('カイ自乗統計量:', chi)\n",
    "print('95%点:', chi_a)\n",
    "if chi > chi_a:\n",
    "    print('正しくない')\n",
    "else:\n",
    "    print('正しい')"
   ]
  },
  {
   "cell_type": "markdown",
   "metadata": {},
   "source": [
    "## 10.12\n",
    "$p$の推定量として、 $\\hat{p} = \\frac{1}{4}\\bar{X}$ を用いる。  \n",
    "ここで $\\pi_i(\\hat{p}) = {}_4\\mathrm{C}_{i} \\hat{p}^i(1-\\hat{p})^{(4-i)}$ と計算できる。（ただし0-index）"
   ]
  },
  {
   "cell_type": "code",
   "execution_count": 35,
   "metadata": {},
   "outputs": [
    {
     "name": "stdout",
     "output_type": "stream",
     "text": [
      "カイ自乗統計量: 1.0675772001183974\n",
      "95%点: 7.814727903251179\n",
      "正しい\n"
     ]
    }
   ],
   "source": [
    "values = np.array([0,1,2,3,4])\n",
    "n_list = np.array([10, 40, 60, 50, 16])\n",
    "p_bar = 1/4 * np.sum(values*n_list) / np.sum(n_list)\n",
    "n = np.sum(n_list)\n",
    "k = len(values)-1\n",
    "\n",
    "pi_list = []\n",
    "for i in range(len(values)):\n",
    "    pi_list.append(p_bar**i * (1-p_bar)**(4-i) * 24/(np.math.factorial(i)*np.math.factorial(4-i)))\n",
    "pi_list = np.array(pi_list)\n",
    "\n",
    "chi = np.sum((n_list - pi_list*n)**2 / (pi_list*n))\n",
    "chi_a = stats.chi2.ppf(0.95, k-1)\n",
    "\n",
    "print('カイ自乗統計量:', chi)\n",
    "print('95%点:', chi_a)\n",
    "if chi > chi_a:\n",
    "    print('適合していない')\n",
    "else:\n",
    "    print('適合している')"
   ]
  },
  {
   "cell_type": "markdown",
   "metadata": {},
   "source": [
    "## 10.13\n",
    "$\\mu$と$\\sigma^2$の推定量として、標本平均$\\bar{X}$と不偏分散$\\hat{\\sigma}^2$を使う。  \n",
    "ここで、$\\mathcal{N}({\\bar{X}, \\hat{\\sigma}^2})$の分布関数を$F$とすると、$\\pi_i(\\bar{X}, \\hat\\sigma^2) = F(10(i+1))-F(10i)$である。(ただし0-index)"
   ]
  },
  {
   "cell_type": "code",
   "execution_count": 65,
   "metadata": {},
   "outputs": [
    {
     "name": "stdout",
     "output_type": "stream",
     "text": [
      "[ 2.30137264  6.92627989 16.12403119 29.03751229 40.45707051 43.61139783\n",
      " 36.37315664 23.4706794  11.71672033  4.52458665]\n"
     ]
    }
   ],
   "source": [
    "values = np.array([5, 15, 25, 35, 45, 55, 65, 75, 85, 95])\n",
    "n_list = np.array([4, 4, 22, 26, 36, 45, 39, 21, 16, 4])\n",
    "n = np.sum(n_list)\n",
    "X_bar = np.sum(values * n_list) / n\n",
    "sigma = np.sqrt(np.sum((values-X_bar)**2 * n_list) / (n-1))\n",
    "pi_list = stats.norm.cdf(values+5, X_bar, sigma) - stats.norm.cdf(values-5, X_bar, sigma)\n",
    "print(pi_list * n)"
   ]
  },
  {
   "cell_type": "markdown",
   "metadata": {},
   "source": [
    "観測度数が5に満たない左右の人クラスずつを併合する"
   ]
  },
  {
   "cell_type": "code",
   "execution_count": 61,
   "metadata": {},
   "outputs": [
    {
     "name": "stdout",
     "output_type": "stream",
     "text": [
      "カイ自乗統計量: 4.477304990926617\n",
      "95%点: 11.070497693516351\n",
      "適合している\n"
     ]
    }
   ],
   "source": [
    "n_list_up = np.append(np.sum(n_list[:2]), np.append(n_list[2:-2], np.sum(n_list[-2:])))\n",
    "pi_list_up = np.append(np.sum(pi_list[:2]), np.append(pi_list[2:-2], np.sum(pi_list[-2:])))\n",
    "k = len(n_list_up)\n",
    "\n",
    "chi = np.sum((n_list_up - pi_list_up*n)**2 / (pi_list_up*n))\n",
    "chi_a = stats.chi2.ppf(0.95, k-3) # muとsigmaの自由度も引くのを忘れない\n",
    "\n",
    "print('カイ自乗統計量:', chi)\n",
    "print('95%点:', chi_a)\n",
    "if chi > chi_a:\n",
    "    print('適合していない')\n",
    "else:\n",
    "    print('適合している')"
   ]
  }
 ],
 "metadata": {
  "kernelspec": {
   "display_name": "Python 3",
   "language": "python",
   "name": "python3"
  },
  "language_info": {
   "codemirror_mode": {
    "name": "ipython",
    "version": 3
   },
   "file_extension": ".py",
   "mimetype": "text/x-python",
   "name": "python",
   "nbconvert_exporter": "python",
   "pygments_lexer": "ipython3",
   "version": "3.7.0"
  }
 },
 "nbformat": 4,
 "nbformat_minor": 2
}